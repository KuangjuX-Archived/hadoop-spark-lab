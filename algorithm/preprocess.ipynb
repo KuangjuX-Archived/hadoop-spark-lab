{
 "cells": [
  {
   "cell_type": "code",
   "execution_count": 18,
   "id": "f239d278",
   "metadata": {},
   "outputs": [],
   "source": [
    "import pandas as pd\n",
    "import os\n",
    "res_location = '/mnt/hgfs/share_file/'\n",
    "os.chdir(res_location)"
   ]
  },
  {
   "cell_type": "code",
   "execution_count": 31,
   "id": "232ba373",
   "metadata": {},
   "outputs": [
    {
     "name": "stdout",
     "output_type": "stream",
     "text": [
      "female.csv     test.csv   世纪佳缘.csv             珍爱网.csv\r\n",
      "male.csv       test2.csv  世纪佳缘_男个人简介.csv  珍爱网内心独白.csv\r\n",
      "stopwords.txt  words.csv  世纪佳缘个人简介.csv\r\n"
     ]
    }
   ],
   "source": [
    "data = pd.read_csv('male.csv')\n",
    "data = data.drop(data.columns[0], axis=1)\n",
    "data = data.drop_duplicates()\n",
    "data.to_csv('male.csv', index=False)"
   ]
  },
  {
   "cell_type": "code",
   "execution_count": 274,
   "id": "ea918066",
   "metadata": {},
   "outputs": [],
   "source": [
    "data = pd.read_csv('female.csv')\n",
    "criterias = data[data.columns[9:15]]"
   ]
  },
  {
   "cell_type": "code",
   "execution_count": 249,
   "id": "ce61b665",
   "metadata": {},
   "outputs": [],
   "source": [
    "def trans(s):\n",
    "    if s == '不限,':\n",
    "        return '18,83'\n",
    "    if s.split(',')[1]=='或以上' or s.split(',')[1]=='':\n",
    "        return s.split(',')[0] + ',83'\n",
    "    else:\n",
    "        return s\n",
    "tmp = criterias['criterias_age'].map(trans)\n",
    "criterias.loc[:, 'criterias_age'] = tmp"
   ]
  },
  {
   "cell_type": "code",
   "execution_count": 250,
   "id": "bcb326a9",
   "metadata": {},
   "outputs": [],
   "source": [
    "def trans(s):\n",
    "    if s == '不限,':\n",
    "        return '130,260'\n",
    "    if s.split(',')[1]=='或以上' or s.split(',')[1]=='':\n",
    "        return s.split(',')[0] + ',260'\n",
    "    else:\n",
    "        return s\n",
    "tmp2 = criterias['criterias_height'].map(trans)\n",
    "criterias.loc[:, 'criterias_height'] = tmp2"
   ]
  },
  {
   "cell_type": "code",
   "execution_count": 275,
   "id": "a43156c5",
   "metadata": {},
   "outputs": [],
   "source": [
    "criterias = pd.read_csv('criterias_female.csv')"
   ]
  },
  {
   "cell_type": "code",
   "execution_count": 289,
   "id": "67ab415e",
   "metadata": {},
   "outputs": [
    {
     "data": {
      "text/html": [
       "<div>\n",
       "<style scoped>\n",
       "    .dataframe tbody tr th:only-of-type {\n",
       "        vertical-align: middle;\n",
       "    }\n",
       "\n",
       "    .dataframe tbody tr th {\n",
       "        vertical-align: top;\n",
       "    }\n",
       "\n",
       "    .dataframe thead th {\n",
       "        text-align: right;\n",
       "    }\n",
       "</style>\n",
       "<table border=\"1\" class=\"dataframe\">\n",
       "  <thead>\n",
       "    <tr style=\"text-align: right;\">\n",
       "      <th></th>\n",
       "      <th>age_flooring</th>\n",
       "      <th>age_ceiling</th>\n",
       "      <th>height_flooring</th>\n",
       "      <th>height_ceiling</th>\n",
       "      <th>criterias_education</th>\n",
       "      <th>criterias_marriage</th>\n",
       "    </tr>\n",
       "  </thead>\n",
       "  <tbody>\n",
       "    <tr>\n",
       "      <th>0</th>\n",
       "      <td>41</td>\n",
       "      <td>49</td>\n",
       "      <td>170</td>\n",
       "      <td>178</td>\n",
       "      <td>硕士</td>\n",
       "      <td>离异</td>\n",
       "    </tr>\n",
       "    <tr>\n",
       "      <th>1</th>\n",
       "      <td>27</td>\n",
       "      <td>39</td>\n",
       "      <td>170</td>\n",
       "      <td>190</td>\n",
       "      <td>不限</td>\n",
       "      <td>不限</td>\n",
       "    </tr>\n",
       "    <tr>\n",
       "      <th>2</th>\n",
       "      <td>33</td>\n",
       "      <td>41</td>\n",
       "      <td>168</td>\n",
       "      <td>183</td>\n",
       "      <td>不限</td>\n",
       "      <td>离异丧偶</td>\n",
       "    </tr>\n",
       "    <tr>\n",
       "      <th>3</th>\n",
       "      <td>38</td>\n",
       "      <td>45</td>\n",
       "      <td>165</td>\n",
       "      <td>181</td>\n",
       "      <td>大专</td>\n",
       "      <td>不限</td>\n",
       "    </tr>\n",
       "    <tr>\n",
       "      <th>4</th>\n",
       "      <td>24</td>\n",
       "      <td>30</td>\n",
       "      <td>172</td>\n",
       "      <td>185</td>\n",
       "      <td>本科或以上</td>\n",
       "      <td>未婚</td>\n",
       "    </tr>\n",
       "    <tr>\n",
       "      <th>...</th>\n",
       "      <td>...</td>\n",
       "      <td>...</td>\n",
       "      <td>...</td>\n",
       "      <td>...</td>\n",
       "      <td>...</td>\n",
       "      <td>...</td>\n",
       "    </tr>\n",
       "    <tr>\n",
       "      <th>1765</th>\n",
       "      <td>32</td>\n",
       "      <td>40</td>\n",
       "      <td>168</td>\n",
       "      <td>175</td>\n",
       "      <td>大专</td>\n",
       "      <td>未婚</td>\n",
       "    </tr>\n",
       "    <tr>\n",
       "      <th>1766</th>\n",
       "      <td>30</td>\n",
       "      <td>39</td>\n",
       "      <td>170</td>\n",
       "      <td>185</td>\n",
       "      <td>大专或以上</td>\n",
       "      <td>未婚</td>\n",
       "    </tr>\n",
       "    <tr>\n",
       "      <th>1767</th>\n",
       "      <td>37</td>\n",
       "      <td>45</td>\n",
       "      <td>170</td>\n",
       "      <td>185</td>\n",
       "      <td>不限</td>\n",
       "      <td>不限</td>\n",
       "    </tr>\n",
       "    <tr>\n",
       "      <th>1768</th>\n",
       "      <td>33</td>\n",
       "      <td>46</td>\n",
       "      <td>130</td>\n",
       "      <td>260</td>\n",
       "      <td>不限</td>\n",
       "      <td>不限</td>\n",
       "    </tr>\n",
       "    <tr>\n",
       "      <th>1769</th>\n",
       "      <td>67</td>\n",
       "      <td>74</td>\n",
       "      <td>165</td>\n",
       "      <td>175</td>\n",
       "      <td>不限</td>\n",
       "      <td>未婚丧偶</td>\n",
       "    </tr>\n",
       "  </tbody>\n",
       "</table>\n",
       "<p>1770 rows × 6 columns</p>\n",
       "</div>"
      ],
      "text/plain": [
       "      age_flooring  age_ceiling  height_flooring  height_ceiling  \\\n",
       "0               41           49              170             178   \n",
       "1               27           39              170             190   \n",
       "2               33           41              168             183   \n",
       "3               38           45              165             181   \n",
       "4               24           30              172             185   \n",
       "...            ...          ...              ...             ...   \n",
       "1765            32           40              168             175   \n",
       "1766            30           39              170             185   \n",
       "1767            37           45              170             185   \n",
       "1768            33           46              130             260   \n",
       "1769            67           74              165             175   \n",
       "\n",
       "     criterias_education criterias_marriage  \n",
       "0                     硕士                 离异  \n",
       "1                     不限                 不限  \n",
       "2                     不限               离异丧偶  \n",
       "3                     大专                 不限  \n",
       "4                  本科或以上                 未婚  \n",
       "...                  ...                ...  \n",
       "1765                  大专                 未婚  \n",
       "1766               大专或以上                 未婚  \n",
       "1767                  不限                 不限  \n",
       "1768                  不限                 不限  \n",
       "1769                  不限               未婚丧偶  \n",
       "\n",
       "[1770 rows x 6 columns]"
      ]
     },
     "execution_count": 289,
     "metadata": {},
     "output_type": "execute_result"
    }
   ],
   "source": [
    "criterias"
   ]
  },
  {
   "cell_type": "code",
   "execution_count": null,
   "id": "b453801b",
   "metadata": {},
   "outputs": [],
   "source": [
    "def trans(s):\n",
    "    return int(s.split(',')[0])\n",
    "criterias['criterias_age'].map(trans)"
   ]
  },
  {
   "cell_type": "code",
   "execution_count": 285,
   "id": "9f5bd3c7",
   "metadata": {},
   "outputs": [],
   "source": [
    "criterias.insert(0,'age_flooring', criterias['criterias_age'].map(trans))"
   ]
  },
  {
   "cell_type": "code",
   "execution_count": 288,
   "id": "7bbcd889",
   "metadata": {},
   "outputs": [],
   "source": [
    "criterias = criterias.drop(criterias.columns[[4,5,6,-1]], axis=1)"
   ]
  },
  {
   "cell_type": "code",
   "execution_count": 290,
   "id": "f13a3818",
   "metadata": {},
   "outputs": [],
   "source": [
    "criterias.to_csv('criterias_female.csv', index=False)"
   ]
  },
  {
   "cell_type": "code",
   "execution_count": 294,
   "id": "679d3c42",
   "metadata": {},
   "outputs": [],
   "source": [
    "data = pd.read_csv('criterias_female.csv')"
   ]
  },
  {
   "cell_type": "code",
   "execution_count": 330,
   "id": "3e961f51",
   "metadata": {},
   "outputs": [
    {
     "data": {
      "text/plain": [
       "1    784\n",
       "3    494\n",
       "2    466\n",
       "5     22\n",
       "6      2\n",
       "4      2\n",
       "Name: criterias_education, dtype: int64"
      ]
     },
     "execution_count": 330,
     "metadata": {},
     "output_type": "execute_result"
    }
   ],
   "source": [
    "data['criterias_education'].value_counts()"
   ]
  },
  {
   "cell_type": "code",
   "execution_count": 327,
   "id": "9a7a1e11",
   "metadata": {},
   "outputs": [],
   "source": [
    "edus = {\n",
    "    '高中中专' : 1,\n",
    "    '大专' : 2,\n",
    "    '本科' : 3,\n",
    "    '双学学士' : 4,\n",
    "    '硕士' : 5,\n",
    "    '博士' : 6\n",
    "}\n",
    "def edu_filter(x):\n",
    "    if x == '高中中专及以下或以上' or x == '高中中专及以下' or x == '不限':\n",
    "        return edus.get('高中中专')\n",
    "    elif x == '本科' or x == '本科或以上':\n",
    "        return edus.get('本科')\n",
    "    elif x == '大专' or x == '大专或以上':\n",
    "        return edus.get('大专')\n",
    "    elif x == '双学士' or x == '双学士或以上':\n",
    "        return edus.get('双学学士')\n",
    "    elif x == '硕士' or x == '硕士或以上':\n",
    "        return edus.get('硕士')\n",
    "    elif x == '博士':\n",
    "        return edus.get('博士')"
   ]
  },
  {
   "cell_type": "code",
   "execution_count": 329,
   "id": "53b27fee",
   "metadata": {},
   "outputs": [],
   "source": [
    "data.loc[:, 'criterias_education'] = data['criterias_education'].map(edu_filter)"
   ]
  },
  {
   "cell_type": "code",
   "execution_count": 336,
   "id": "75d2298b",
   "metadata": {
    "scrolled": true
   },
   "outputs": [
    {
     "data": {
      "text/plain": [
       "不限      979\n",
       "未婚      489\n",
       "未婚离异    143\n",
       "离异丧偶    108\n",
       "离异       40\n",
       "未婚丧偶      7\n",
       "丧偶        4\n",
       "Name: criterias_marriage, dtype: int64"
      ]
     },
     "execution_count": 336,
     "metadata": {},
     "output_type": "execute_result"
    }
   ],
   "source": [
    "data['criterias_marriage'].value_counts()"
   ]
  },
  {
   "cell_type": "code",
   "execution_count": 337,
   "id": "8ec9c03a",
   "metadata": {},
   "outputs": [],
   "source": [
    "marriage = {\n",
    "    '未婚离异或丧偶': 1,\n",
    "    '未婚或离异': 2,\n",
    "    '未婚或丧偶': 3,\n",
    "    '未婚': 4\n",
    "}\n",
    "def marriage_filter(x):\n",
    "    if x == '离异丧偶' or x == '不限':\n",
    "        return marriage.get('未婚离异或丧偶')\n",
    "    elif x == '未婚离异' or x == '离异':\n",
    "        return marriage.get('未婚或离异')\n",
    "    elif x == '丧偶' or x == '未婚丧偶':\n",
    "        return marriage.get('未婚或丧偶')\n",
    "    elif x == '未婚':\n",
    "        return marriage.get('未婚')\n"
   ]
  },
  {
   "cell_type": "code",
   "execution_count": 338,
   "id": "89f86f39",
   "metadata": {},
   "outputs": [],
   "source": [
    "data.loc[:, 'criterias_marriage'] = data['criterias_marriage'].map(marriage_filter)"
   ]
  },
  {
   "cell_type": "code",
   "execution_count": 340,
   "id": "1d2147fb",
   "metadata": {},
   "outputs": [
    {
     "data": {
      "text/plain": [
       "1    1087\n",
       "4     489\n",
       "2     183\n",
       "3      11\n",
       "Name: criterias_marriage, dtype: int64"
      ]
     },
     "execution_count": 340,
     "metadata": {},
     "output_type": "execute_result"
    }
   ],
   "source": [
    "data['criterias_marriage'].value_counts()"
   ]
  },
  {
   "cell_type": "code",
   "execution_count": 342,
   "id": "0d82387d",
   "metadata": {},
   "outputs": [],
   "source": [
    "data.to_csv('criterias_test.csv', index=False, header=False)"
   ]
  },
  {
   "cell_type": "code",
   "execution_count": 344,
   "id": "8cbdb0b3",
   "metadata": {},
   "outputs": [],
   "source": [
    "!hdfs dfs -put criterias_test.csv criterias_test.csv"
   ]
  },
  {
   "cell_type": "code",
   "execution_count": 352,
   "id": "03058ace",
   "metadata": {},
   "outputs": [
    {
     "name": "stdout",
     "output_type": "stream",
     "text": [
      "Deleted stopwords.txt\r\n"
     ]
    }
   ],
   "source": [
    "!hdfs dfs -rm ./stopwords.txt\n",
    "!hdfs dfs -put /mnt/hgfs/share_file/stopwords.txt ./stopwords.txt"
   ]
  },
  {
   "cell_type": "code",
   "execution_count": null,
   "id": "bf10b717",
   "metadata": {},
   "outputs": [],
   "source": []
  }
 ],
 "metadata": {
  "kernelspec": {
   "display_name": "py3.7",
   "language": "python",
   "name": "python3.7"
  },
  "language_info": {
   "codemirror_mode": {
    "name": "ipython",
    "version": 3
   },
   "file_extension": ".py",
   "mimetype": "text/x-python",
   "name": "python",
   "nbconvert_exporter": "python",
   "pygments_lexer": "ipython3",
   "version": "3.7.12"
  }
 },
 "nbformat": 4,
 "nbformat_minor": 5
}
